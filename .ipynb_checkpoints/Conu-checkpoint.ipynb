{
 "cells": [
  {
   "cell_type": "markdown",
   "metadata": {},
   "source": [
    "# Welcome to conu demo! \n",
    "\n",
    "You need to install following packages to be able to run docker examples: `docker` and `conu`, for kubernetes and OpenShift examples I recommend to run local cluster using `minishift`."
   ]
  },
  {
   "cell_type": "code",
   "execution_count": 1,
   "metadata": {},
   "outputs": [],
   "source": [
    "from IPython.display import display, HTML, Pretty"
   ]
  },
  {
   "cell_type": "markdown",
   "metadata": {},
   "source": [
    "# Docker example"
   ]
  },
  {
   "cell_type": "code",
   "execution_count": 2,
   "metadata": {},
   "outputs": [],
   "source": [
    "from conu import DockerBackend"
   ]
  },
  {
   "cell_type": "code",
   "execution_count": 3,
   "metadata": {},
   "outputs": [
    {
     "name": "stderr",
     "output_type": "stream",
     "text": [
      "10:32:55.788 backend.py        INFO   conu has initiated, welcome to the party!\n",
      "10:32:56.644 __init__.py       INFO   docker environment info: 'Client: Docker Engine - Community\\n Version:           18.09.1\\n API version:       1.39\\n Go version:        go1.10.6\\n Git commit:        4c52b90\\n Built:             Wed Jan  9 19:33:12 2019\\n OS/Arch:           darwin/amd64\\n Experimental:      false\\n\\nServer: Docker Engine - Community\\n Engine:\\n  Version:          18.09.1\\n  API version:      1.39 (minimum version 1.12)\\n  Go version:       go1.10.6\\n  Git commit:       4c52b90\\n  Built:            Wed Jan  9 19:41:49 2019\\n  OS/Arch:          linux/amd64\\n  Experimental:     true\\n'\n"
     ]
    }
   ],
   "source": [
    "backend = DockerBackend()"
   ]
  },
  {
   "cell_type": "code",
   "execution_count": 4,
   "metadata": {},
   "outputs": [],
   "source": [
    "image = backend.ImageClass(\"docker.io/library/nginx\")"
   ]
  },
  {
   "cell_type": "code",
   "execution_count": 5,
   "metadata": {},
   "outputs": [
    {
     "data": {
      "text/plain": [
       "{'Id': 'sha256:06144b2878448774e55577ae7d66b5f43a87c2e44322b3884e4e6c70d070b262',\n",
       " 'RepoTags': ['nginx:latest'],\n",
       " 'RepoDigests': ['nginx@sha256:24a0c4b4a4c0eb97a1aabb8e29f18e917d05abfe1b7a7c07857230879ce7d3d3'],\n",
       " 'Parent': '',\n",
       " 'Comment': '',\n",
       " 'Created': '2018-09-05T00:57:00.322491744Z',\n",
       " 'Container': 'ea0a37cdc91d1228880c77a4660fd74a6ba6ae5d2de6c54e2ac025c66c11f257',\n",
       " 'ContainerConfig': {'Hostname': 'ea0a37cdc91d',\n",
       "  'Domainname': '',\n",
       "  'User': '',\n",
       "  'AttachStdin': False,\n",
       "  'AttachStdout': False,\n",
       "  'AttachStderr': False,\n",
       "  'ExposedPorts': {'80/tcp': {}},\n",
       "  'Tty': False,\n",
       "  'OpenStdin': False,\n",
       "  'StdinOnce': False,\n",
       "  'Env': ['PATH=/usr/local/sbin:/usr/local/bin:/usr/sbin:/usr/bin:/sbin:/bin',\n",
       "   'NGINX_VERSION=1.15.3-1~stretch',\n",
       "   'NJS_VERSION=1.15.3.0.2.3-1~stretch'],\n",
       "  'Cmd': ['/bin/sh', '-c', '#(nop) ', 'CMD [\"nginx\" \"-g\" \"daemon off;\"]'],\n",
       "  'ArgsEscaped': True,\n",
       "  'Image': 'sha256:674565b18e1c8e0102c657d89059818ba8e0f476073f63078439951d4e0370b0',\n",
       "  'Volumes': None,\n",
       "  'WorkingDir': '',\n",
       "  'Entrypoint': None,\n",
       "  'OnBuild': [],\n",
       "  'Labels': {'maintainer': 'NGINX Docker Maintainers <docker-maint@nginx.com>'},\n",
       "  'StopSignal': 'SIGTERM'},\n",
       " 'DockerVersion': '17.06.2-ce',\n",
       " 'Author': '',\n",
       " 'Config': {'Hostname': '',\n",
       "  'Domainname': '',\n",
       "  'User': '',\n",
       "  'AttachStdin': False,\n",
       "  'AttachStdout': False,\n",
       "  'AttachStderr': False,\n",
       "  'ExposedPorts': {'80/tcp': {}},\n",
       "  'Tty': False,\n",
       "  'OpenStdin': False,\n",
       "  'StdinOnce': False,\n",
       "  'Env': ['PATH=/usr/local/sbin:/usr/local/bin:/usr/sbin:/usr/bin:/sbin:/bin',\n",
       "   'NGINX_VERSION=1.15.3-1~stretch',\n",
       "   'NJS_VERSION=1.15.3.0.2.3-1~stretch'],\n",
       "  'Cmd': ['nginx', '-g', 'daemon off;'],\n",
       "  'ArgsEscaped': True,\n",
       "  'Image': 'sha256:674565b18e1c8e0102c657d89059818ba8e0f476073f63078439951d4e0370b0',\n",
       "  'Volumes': None,\n",
       "  'WorkingDir': '',\n",
       "  'Entrypoint': None,\n",
       "  'OnBuild': [],\n",
       "  'Labels': {'maintainer': 'NGINX Docker Maintainers <docker-maint@nginx.com>'},\n",
       "  'StopSignal': 'SIGTERM'},\n",
       " 'Architecture': 'amd64',\n",
       " 'Os': 'linux',\n",
       " 'Size': 109057266,\n",
       " 'VirtualSize': 109057266,\n",
       " 'GraphDriver': {'Data': {'LowerDir': '/var/lib/docker/overlay2/011aee0449499eda0311281c2ffbff84ed8371716a2f6ca08ed91575c28c5949/diff:/var/lib/docker/overlay2/4d43a25d0a448aa02a955e792ec890cd151a903e6d59020a6a405a710be70554/diff',\n",
       "   'MergedDir': '/var/lib/docker/overlay2/c8243238ed251ddc56f4a28953af63a09527b11161faf6c5055233a781f15314/merged',\n",
       "   'UpperDir': '/var/lib/docker/overlay2/c8243238ed251ddc56f4a28953af63a09527b11161faf6c5055233a781f15314/diff',\n",
       "   'WorkDir': '/var/lib/docker/overlay2/c8243238ed251ddc56f4a28953af63a09527b11161faf6c5055233a781f15314/work'},\n",
       "  'Name': 'overlay2'},\n",
       " 'RootFS': {'Type': 'layers',\n",
       "  'Layers': ['sha256:8b15606a9e3e430cb7ba739fde2fbb3734a19f8a59a825ffa877f9be49059817',\n",
       "   'sha256:67d3ae5dfa345eeae001eb9e2c814f77b180c80164ec79b2e47191871d2868d4',\n",
       "   'sha256:579c75bb43c0e69e58113aab1185b274806188d8ed6ab4b69d2053921aec2553']},\n",
       " 'Metadata': {'LastTagTime': '0001-01-01T00:00:00Z'}}"
      ]
     },
     "execution_count": 5,
     "metadata": {},
     "output_type": "execute_result"
    }
   ],
   "source": [
    "image.inspect()"
   ]
  },
  {
   "cell_type": "code",
   "execution_count": 6,
   "metadata": {},
   "outputs": [
    {
     "name": "stderr",
     "output_type": "stream",
     "text": [
      "10:33:04.605 image.py          INFO   run container via binary in background\n"
     ]
    }
   ],
   "source": [
    "container = image.run_via_binary()"
   ]
  },
  {
   "cell_type": "code",
   "execution_count": 7,
   "metadata": {},
   "outputs": [
    {
     "data": {
      "text/plain": [
       "True"
      ]
     },
     "execution_count": 7,
     "metadata": {},
     "output_type": "execute_result"
    }
   ],
   "source": [
    "container.is_running()"
   ]
  },
  {
   "cell_type": "code",
   "execution_count": 8,
   "metadata": {},
   "outputs": [
    {
     "data": {
      "text/plain": [
       "['172.17.0.3']"
      ]
     },
     "execution_count": 8,
     "metadata": {},
     "output_type": "execute_result"
    }
   ],
   "source": [
    "container.get_IPv4s()"
   ]
  },
  {
   "cell_type": "code",
   "execution_count": 9,
   "metadata": {},
   "outputs": [
    {
     "data": {
      "text/plain": [
       "['80']"
      ]
     },
     "execution_count": 9,
     "metadata": {},
     "output_type": "execute_result"
    }
   ],
   "source": [
    "container.get_ports()"
   ]
  },
  {
   "cell_type": "code",
   "execution_count": 10,
   "metadata": {},
   "outputs": [],
   "source": [
    "container.stop()"
   ]
  },
  {
   "cell_type": "code",
   "execution_count": 11,
   "metadata": {},
   "outputs": [
    {
     "data": {
      "text/plain": [
       "False"
      ]
     },
     "execution_count": 11,
     "metadata": {},
     "output_type": "execute_result"
    }
   ],
   "source": [
    "container.is_running()"
   ]
  },
  {
   "cell_type": "markdown",
   "metadata": {},
   "source": [
    "### HTTP client"
   ]
  },
  {
   "cell_type": "code",
   "execution_count": 12,
   "metadata": {},
   "outputs": [],
   "source": [
    "image = backend.ImageClass(\"registry.fedoraproject.org/fedora\")"
   ]
  },
  {
   "cell_type": "code",
   "execution_count": 15,
   "metadata": {},
   "outputs": [
    {
     "name": "stderr",
     "output_type": "stream",
     "text": [
      "10:34:39.371 image.py          INFO   run container via binary in background\n"
     ]
    }
   ],
   "source": [
    "container = image.run_via_binary(command=[\"python3\", \"-m\", \"http.server\", \"--bind\", \"0.0.0.0 8000\"],\n",
    "                                 additional_opts=[\"-p\", \"8000:8000\"])"
   ]
  },
  {
   "cell_type": "code",
   "execution_count": 16,
   "metadata": {},
   "outputs": [
    {
     "data": {
      "text/plain": [
       "['8000']"
      ]
     },
     "execution_count": 16,
     "metadata": {},
     "output_type": "execute_result"
    }
   ],
   "source": [
    "container.get_ports()"
   ]
  },
  {
   "cell_type": "code",
   "execution_count": 17,
   "metadata": {},
   "outputs": [
    {
     "data": {
      "text/plain": [
       "['172.17.0.2']"
      ]
     },
     "execution_count": 17,
     "metadata": {},
     "output_type": "execute_result"
    }
   ],
   "source": [
    "container.get_IPv4s()"
   ]
  },
  {
   "cell_type": "code",
   "execution_count": 18,
   "metadata": {},
   "outputs": [
    {
     "data": {
      "text/plain": [
       "{'8000/tcp': [{'HostIp': '0.0.0.0', 'HostPort': '8000'}]}"
      ]
     },
     "execution_count": 18,
     "metadata": {},
     "output_type": "execute_result"
    }
   ],
   "source": [
    "container.get_port_mappings()"
   ]
  },
  {
   "cell_type": "code",
   "execution_count": 19,
   "metadata": {},
   "outputs": [],
   "source": [
    "request = container.http_request(host=\"127.0.0.1\", port=\"8000\")"
   ]
  },
  {
   "cell_type": "code",
   "execution_count": 20,
   "metadata": {},
   "outputs": [
    {
     "data": {
      "text/plain": [
       "True"
      ]
     },
     "execution_count": 20,
     "metadata": {},
     "output_type": "execute_result"
    }
   ],
   "source": [
    "request.ok"
   ]
  },
  {
   "cell_type": "code",
   "execution_count": 21,
   "metadata": {},
   "outputs": [
    {
     "data": {
      "text/html": [
       "<!DOCTYPE HTML PUBLIC \"-//W3C//DTD HTML 4.01//EN\" \"http://www.w3.org/TR/html4/strict.dtd\">\n",
       "<html>\n",
       "<head>\n",
       "<meta http-equiv=\"Content-Type\" content=\"text/html; charset=utf-8\">\n",
       "<title>Directory listing for /</title>\n",
       "</head>\n",
       "<body>\n",
       "<h1>Directory listing for /</h1>\n",
       "<hr>\n",
       "<ul>\n",
       "<li><a href=\".dockerenv\">.dockerenv</a></li>\n",
       "<li><a href=\"bin/\">bin@</a></li>\n",
       "<li><a href=\"boot/\">boot/</a></li>\n",
       "<li><a href=\"dev/\">dev/</a></li>\n",
       "<li><a href=\"etc/\">etc/</a></li>\n",
       "<li><a href=\"home/\">home/</a></li>\n",
       "<li><a href=\"lib/\">lib@</a></li>\n",
       "<li><a href=\"lib64/\">lib64@</a></li>\n",
       "<li><a href=\"lost%2Bfound/\">lost+found/</a></li>\n",
       "<li><a href=\"media/\">media/</a></li>\n",
       "<li><a href=\"mnt/\">mnt/</a></li>\n",
       "<li><a href=\"opt/\">opt/</a></li>\n",
       "<li><a href=\"proc/\">proc/</a></li>\n",
       "<li><a href=\"root/\">root/</a></li>\n",
       "<li><a href=\"run/\">run/</a></li>\n",
       "<li><a href=\"sbin/\">sbin@</a></li>\n",
       "<li><a href=\"srv/\">srv/</a></li>\n",
       "<li><a href=\"sys/\">sys/</a></li>\n",
       "<li><a href=\"tmp/\">tmp/</a></li>\n",
       "<li><a href=\"usr/\">usr/</a></li>\n",
       "<li><a href=\"var/\">var/</a></li>\n",
       "</ul>\n",
       "<hr>\n",
       "</body>\n",
       "</html>\n"
      ],
      "text/plain": [
       "<IPython.core.display.HTML object>"
      ]
     },
     "metadata": {},
     "output_type": "display_data"
    }
   ],
   "source": [
    "display(HTML(request.content.decode(\"utf-8\")))"
   ]
  },
  {
   "cell_type": "code",
   "execution_count": 22,
   "metadata": {},
   "outputs": [],
   "source": [
    "request = container.http_request(path=\"/etc\", host=\"127.0.0.1\", port=\"8000\")"
   ]
  },
  {
   "cell_type": "code",
   "execution_count": 23,
   "metadata": {},
   "outputs": [
    {
     "data": {
      "text/plain": [
       "True"
      ]
     },
     "execution_count": 23,
     "metadata": {},
     "output_type": "execute_result"
    }
   ],
   "source": [
    "request.ok"
   ]
  },
  {
   "cell_type": "code",
   "execution_count": 24,
   "metadata": {},
   "outputs": [
    {
     "data": {
      "text/plain": [
       "True"
      ]
     },
     "execution_count": 24,
     "metadata": {},
     "output_type": "execute_result"
    }
   ],
   "source": [
    "\"passwd\" in request.content.decode(\"utf-8\")"
   ]
  },
  {
   "cell_type": "markdown",
   "metadata": {},
   "source": [
    "# Kubernetes example\n",
    "\n",
    "This example demonstrating how to run image created by `DockerBackend` as container inside Kubernetes pod."
   ]
  },
  {
   "cell_type": "code",
   "execution_count": 25,
   "metadata": {},
   "outputs": [],
   "source": [
    "from conu import K8sBackend"
   ]
  },
  {
   "cell_type": "code",
   "execution_count": 26,
   "metadata": {},
   "outputs": [
    {
     "name": "stderr",
     "output_type": "stream",
     "text": [
      "10:35:37.207 backend.py        INFO   conu has initiated, welcome to the party!\n"
     ]
    }
   ],
   "source": [
    "k8s_backend = K8sBackend()"
   ]
  },
  {
   "cell_type": "code",
   "execution_count": 27,
   "metadata": {},
   "outputs": [
    {
     "name": "stderr",
     "output_type": "stream",
     "text": [
      "10:35:40.844 backend.py        INFO   conu has initiated, welcome to the party!\n"
     ]
    }
   ],
   "source": [
    "docker_backend = DockerBackend()"
   ]
  },
  {
   "cell_type": "code",
   "execution_count": 28,
   "metadata": {},
   "outputs": [],
   "source": [
    "image = docker_backend.ImageClass(\"openshift/hello-openshift\")"
   ]
  },
  {
   "cell_type": "code",
   "execution_count": 29,
   "metadata": {},
   "outputs": [
    {
     "name": "stderr",
     "output_type": "stream",
     "text": [
      "10:36:03.719 image.py          INFO   Starting Pod hello-openshift-rpitonak-prr4-pod in namespace myproject\n"
     ]
    }
   ],
   "source": [
    "pod = image.run_in_pod(namespace='myproject')"
   ]
  },
  {
   "cell_type": "code",
   "execution_count": 30,
   "metadata": {},
   "outputs": [
    {
     "name": "stderr",
     "output_type": "stream",
     "text": [
      "10:36:11.206 pod.py            INFO   Pod: hello-openshift-rpitonak-prr4-pod in namespace: myproject is ready!\n"
     ]
    },
    {
     "data": {
      "text/plain": [
       "True"
      ]
     },
     "execution_count": 30,
     "metadata": {},
     "output_type": "execute_result"
    }
   ],
   "source": [
    "pod.is_ready()"
   ]
  },
  {
   "cell_type": "code",
   "execution_count": 31,
   "metadata": {},
   "outputs": [
    {
     "data": {
      "text/plain": [
       "<PodPhase.RUNNING: 1>"
      ]
     },
     "execution_count": 31,
     "metadata": {},
     "output_type": "execute_result"
    }
   ],
   "source": [
    "pod.get_phase()"
   ]
  },
  {
   "cell_type": "code",
   "execution_count": 32,
   "metadata": {},
   "outputs": [
    {
     "name": "stderr",
     "output_type": "stream",
     "text": [
      "10:36:18.007 pod.py            INFO   Deleting Pod hello-openshift-rpitonak-prr4-pod in namespace myproject\n"
     ]
    }
   ],
   "source": [
    "pod.delete()"
   ]
  },
  {
   "cell_type": "code",
   "execution_count": 33,
   "metadata": {},
   "outputs": [
    {
     "data": {
      "text/plain": [
       "<PodPhase.TERMINATING: 4>"
      ]
     },
     "execution_count": 33,
     "metadata": {},
     "output_type": "execute_result"
    }
   ],
   "source": [
    "pod.get_phase()"
   ]
  },
  {
   "cell_type": "markdown",
   "metadata": {},
   "source": [
    "## Deployment"
   ]
  },
  {
   "cell_type": "code",
   "execution_count": 34,
   "metadata": {},
   "outputs": [],
   "source": [
    "from conu.utils import get_oc_api_token"
   ]
  },
  {
   "cell_type": "code",
   "execution_count": 35,
   "metadata": {},
   "outputs": [],
   "source": [
    "from conu.backend.k8s.deployment import Deployment"
   ]
  },
  {
   "cell_type": "code",
   "execution_count": 36,
   "metadata": {},
   "outputs": [
    {
     "name": "stderr",
     "output_type": "stream",
     "text": [
      "10:37:04.401 backend.py        INFO   conu has initiated, welcome to the party!\n"
     ]
    }
   ],
   "source": [
    "api_key = get_oc_api_token()\n",
    "k8s_backend = K8sBackend(api_key=api_key)"
   ]
  },
  {
   "cell_type": "code",
   "execution_count": 37,
   "metadata": {},
   "outputs": [],
   "source": [
    "template = \"\"\"\n",
    "        apiVersion: apps/v1\n",
    "        kind: Deployment\n",
    "        metadata:\n",
    "          name: hello-world\n",
    "          labels:\n",
    "            app: hello-world\n",
    "        spec:\n",
    "          replicas: 3\n",
    "          selector:\n",
    "            matchLabels:\n",
    "              app: hello-world\n",
    "          template:\n",
    "            metadata:\n",
    "              labels:\n",
    "                app: hello-world\n",
    "            spec:\n",
    "              containers:\n",
    "              - name: hello-openshift\n",
    "                image: openshift/hello-openshift\n",
    "        \"\"\""
   ]
  },
  {
   "cell_type": "code",
   "execution_count": 38,
   "metadata": {},
   "outputs": [
    {
     "name": "stderr",
     "output_type": "stream",
     "text": [
      "10:37:10.667 deployment.py     INFO   Creating Deployment hello-world in namespace: myproject\n"
     ]
    }
   ],
   "source": [
    "test_deployment = Deployment(namespace='myproject', from_template=template, create_in_cluster=True)"
   ]
  },
  {
   "cell_type": "code",
   "execution_count": 39,
   "metadata": {},
   "outputs": [
    {
     "name": "stderr",
     "output_type": "stream",
     "text": [
      "10:37:22.033 deployment.py     INFO   All pods are ready for deployment hello-world in namespace: myproject\n"
     ]
    },
    {
     "data": {
      "text/plain": [
       "True"
      ]
     },
     "execution_count": 39,
     "metadata": {},
     "output_type": "execute_result"
    }
   ],
   "source": [
    "test_deployment.all_pods_ready()"
   ]
  },
  {
   "cell_type": "code",
   "execution_count": 40,
   "metadata": {},
   "outputs": [
    {
     "data": {
      "text/plain": [
       "{'available_replicas': 3,\n",
       " 'collision_count': None,\n",
       " 'conditions': [{'last_transition_time': datetime.datetime(2019, 1, 23, 9, 37, 15, tzinfo=tzutc()),\n",
       "                 'last_update_time': datetime.datetime(2019, 1, 23, 9, 37, 15, tzinfo=tzutc()),\n",
       "                 'message': 'Deployment has minimum availability.',\n",
       "                 'reason': 'MinimumReplicasAvailable',\n",
       "                 'status': 'True',\n",
       "                 'type': 'Available'},\n",
       "                {'last_transition_time': datetime.datetime(2019, 1, 23, 9, 37, 9, tzinfo=tzutc()),\n",
       "                 'last_update_time': datetime.datetime(2019, 1, 23, 9, 37, 15, tzinfo=tzutc()),\n",
       "                 'message': 'ReplicaSet \"hello-world-5d579c544d\" has '\n",
       "                            'successfully progressed.',\n",
       "                 'reason': 'NewReplicaSetAvailable',\n",
       "                 'status': 'True',\n",
       "                 'type': 'Progressing'}],\n",
       " 'observed_generation': 1,\n",
       " 'ready_replicas': 3,\n",
       " 'replicas': 3,\n",
       " 'unavailable_replicas': None,\n",
       " 'updated_replicas': 3}"
      ]
     },
     "execution_count": 40,
     "metadata": {},
     "output_type": "execute_result"
    }
   ],
   "source": [
    "test_deployment.get_status()"
   ]
  },
  {
   "cell_type": "code",
   "execution_count": 41,
   "metadata": {},
   "outputs": [
    {
     "name": "stderr",
     "output_type": "stream",
     "text": [
      "10:38:18.481 deployment.py     INFO   Deleting Deployment hello-world in namespace: myproject\n"
     ]
    }
   ],
   "source": [
    "test_deployment.delete()"
   ]
  },
  {
   "cell_type": "markdown",
   "metadata": {},
   "source": [
    "# OpenShift example"
   ]
  },
  {
   "cell_type": "code",
   "execution_count": 42,
   "metadata": {},
   "outputs": [],
   "source": [
    "from conu.utils import get_oc_api_token"
   ]
  },
  {
   "cell_type": "code",
   "execution_count": 43,
   "metadata": {},
   "outputs": [],
   "source": [
    "from conu import OpenshiftBackend"
   ]
  },
  {
   "cell_type": "code",
   "execution_count": 44,
   "metadata": {},
   "outputs": [],
   "source": [
    "api_key = get_oc_api_token()"
   ]
  },
  {
   "cell_type": "code",
   "execution_count": 45,
   "metadata": {},
   "outputs": [
    {
     "data": {
      "text/plain": [
       "'PG-Z8nALuWCrUCj21iw7qap7DA9kokfErWEIIrZUEZY'"
      ]
     },
     "execution_count": 45,
     "metadata": {},
     "output_type": "execute_result"
    }
   ],
   "source": [
    "api_key"
   ]
  },
  {
   "cell_type": "code",
   "execution_count": 46,
   "metadata": {},
   "outputs": [
    {
     "name": "stderr",
     "output_type": "stream",
     "text": [
      "10:38:57.045 backend.py        INFO   conu has initiated, welcome to the party!\n"
     ]
    }
   ],
   "source": [
    "openshift_backend = OpenshiftBackend(api_key=api_key)"
   ]
  },
  {
   "cell_type": "code",
   "execution_count": 47,
   "metadata": {},
   "outputs": [
    {
     "name": "stderr",
     "output_type": "stream",
     "text": [
      "10:39:24.919 backend.py        INFO   Importing image from: centos/mariadb-102-centos7, as: mariadb-102-centos7\n",
      "10:39:27.096 backend.py        INFO   Creating new app in project myproject\n"
     ]
    }
   ],
   "source": [
    "app_name = openshift_backend.deploy_image(\"centos/mariadb-102-centos7\",\n",
    "                                         oc_new_app_args=[\"--env\", \"MYSQL_ROOT_PASSWORD=test\"],\n",
    "                                         project='myproject')"
   ]
  },
  {
   "cell_type": "code",
   "execution_count": 48,
   "metadata": {},
   "outputs": [
    {
     "name": "stderr",
     "output_type": "stream",
     "text": [
      "10:39:36.686 pod.py            INFO   Pod: app-czwxd-1-qjnqn in namespace: myproject is ready!\n",
      "10:39:36.687 backend.py        INFO   All pods are ready!\n"
     ]
    },
    {
     "data": {
      "text/plain": [
       "True"
      ]
     },
     "execution_count": 48,
     "metadata": {},
     "output_type": "execute_result"
    }
   ],
   "source": [
    "openshift_backend.all_pods_are_ready(app_name)"
   ]
  },
  {
   "cell_type": "code",
   "execution_count": 49,
   "metadata": {},
   "outputs": [
    {
     "data": {
      "text/plain": [
       "In project My Project (myproject) on server https://192.168.99.100:8443\n",
       "\n",
       "svc/app-czwxd - 172.30.118.101:3306\n",
       "  dc/app-czwxd deploys istag/mariadb-102-centos7:latest \n",
       "    deployment #1 deployed 20 seconds ago - 1 pod\n",
       "\n",
       "\n",
       "2 infos identified, use 'oc status -v' to see details.\n",
       "=> sourcing 20-validate-variables.sh ...\n",
       "=> sourcing 25-validate-replication-variables.sh ...\n",
       "=> sourcing 30-base-config.sh ...\n",
       "---> 09:39:30     Processing basic MySQL configuration files ...\n",
       "=> sourcing 60-replication-config.sh ...\n",
       "=> sourcing 70-s2i-config.sh ...\n",
       "---> 09:39:30     Processing additional arbitrary  MySQL configuration provided by s2i ...\n",
       "=> sourcing 40-paas.cnf ...\n",
       "=> sourcing 50-my-tuning.cnf ...\n",
       "---> 09:39:30     Initializing database ...\n",
       "---> 09:39:30     Running mysql_install_db ...\n",
       "2019-01-23  9:39:30 140016118802624 [Note] Using unique option prefix 'ignore-db-dir' is error-prone and can break in the future. Please use the full name 'ignore_db_dirs' instead.\n",
       "2019-01-23  9:39:30 140016118802624 [Note] Using unique option prefix 'ignore-db-dir' is error-prone and can break in the future. Please use the full name 'ignore_db_dirs' instead.\n",
       "PLEASE REMEMBER TO SET A PASSWORD FOR THE MariaDB root USER !\n",
       "To do so, start the server, then issue the following commands:\n",
       "scl enable rh-mariadb102 -- '/opt/rh/rh-mariadb102/root/usr/bin/mysqladmin' -u root password 'new-password'\n",
       "scl enable rh-mariadb102 -- '/opt/rh/rh-mariadb102/root/usr/bin/mysqladmin' -u root -h app-czwxd-1-qjnqn password 'new-password'\n",
       "Alternatively you can run:\n",
       "scl enable rh-mariadb102 -- '/opt/rh/rh-mariadb102/root/usr/bin/mysql_secure_installation'\n",
       "which will also give you the option of removing the test\n",
       "databases and anonymous user created by default.  This is\n",
       "strongly recommended for production servers.\n",
       "See the MariaDB Knowledgebase at http://mariadb.com/kb or the\n",
       "MySQL manual for more instructions.\n",
       "Please report any problems at http://mariadb.org/jira\n",
       "The latest information about MariaDB is available at http://mariadb.org/.\n",
       "You can find additional information about the MySQL part at:\n",
       "http://dev.mysql.com\n",
       "Consider joining MariaDB's strong and vibrant community:\n",
       "https://mariadb.org/get-involved/\n",
       "---> 09:39:32     Starting MySQL server with disabled networking ...\n",
       "---> 09:39:32     Waiting for MySQL to start ...\n",
       "2019-01-23  9:39:32 140527923181760 [Note] Using unique option prefix 'ignore-db-dir' is error-prone and can break in the future. Please use the full name 'ignore_db_dirs' instead.\n",
       "2019-01-23  9:39:32 140527923181760 [Note] Using unique option prefix 'ignore-db-dir' is error-prone and can break in the future. Please use the full name 'ignore_db_dirs' instead.\n",
       "2019-01-23  9:39:32 140527923181760 [Note] /opt/rh/rh-mariadb102/root/usr/libexec/mysqld (mysqld 10.2.8-MariaDB) starting as process 87 ...\n",
       "2019-01-23  9:39:32 140527923181760 [Note] InnoDB: Mutexes and rw_locks use GCC atomic builtins\n",
       "2019-01-23  9:39:32 140527923181760 [Note] InnoDB: Uses event mutexes\n",
       "2019-01-23  9:39:32 140527923181760 [Note] InnoDB: Compressed tables use zlib 1.2.7\n",
       "2019-01-23  9:39:32 140527923181760 [Note] InnoDB: Using Linux native AIO\n",
       "2019-01-23  9:39:32 140527923181760 [Note] InnoDB: Number of pools: 1\n",
       "2019-01-23  9:39:32 140527923181760 [Note] InnoDB: Using SSE2 crc32 instructions\n",
       "2019-01-23  9:39:32 140527923181760 [Note] InnoDB: Initializing buffer pool, total size = 32M, instances = 1, chunk size = 32M\n",
       "2019-01-23  9:39:32 140527923181760 [Note] InnoDB: Completed initialization of buffer pool\n",
       "2019-01-23  9:39:32 140527362074368 [Note] InnoDB: If the mysqld execution user is authorized, page cleaner thread priority can be changed. See the man page of setpriority().\n",
       "2019-01-23  9:39:32 140527923181760 [Note] InnoDB: Highest supported file format is Barracuda.\n",
       "2019-01-23  9:39:32 140527923181760 [Note] InnoDB: 128 out of 128 rollback segments are active.\n",
       "2019-01-23  9:39:32 140527923181760 [Note] InnoDB: Creating shared tablespace for temporary tables\n",
       "2019-01-23  9:39:32 140527923181760 [Note] InnoDB: Setting file './ibtmp1' size to 12 MB. Physically writing the file full; Please wait ...\n",
       "2019-01-23  9:39:32 140527923181760 [Note] InnoDB: File './ibtmp1' size is now 12 MB.\n",
       "2019-01-23  9:39:32 140527923181760 [Note] InnoDB: Waiting for purge to start\n",
       "2019-01-23  9:39:32 140527923181760 [Note] InnoDB: 5.7.19 started; log sequence number 1620098\n",
       "2019-01-23  9:39:32 140527194318592 [Note] InnoDB: Loading buffer pool(s) from /var/lib/mysql/data/ib_buffer_pool\n",
       "2019-01-23  9:39:32 140527194318592 [Note] InnoDB: Buffer pool(s) load completed at 190123  9:39:32\n",
       "2019-01-23  9:39:33 140527923181760 [Note] Plugin 'FEEDBACK' is disabled.\n",
       "2019-01-23  9:39:33 140527923181760 [Warning] 'user' entry 'root@app-czwxd-1-qjnqn' ignored in --skip-name-resolve mode.\n",
       "2019-01-23  9:39:33 140527923181760 [Warning] 'user' entry '@app-czwxd-1-qjnqn' ignored in --skip-name-resolve mode.\n",
       "2019-01-23  9:39:33 140527923181760 [Warning] 'proxies_priv' entry '@% root@app-czwxd-1-qjnqn' ignored in --skip-name-resolve mode.\n",
       "2019-01-23  9:39:33 140527923181760 [Note] Reading of all Master_info entries succeded\n",
       "2019-01-23  9:39:33 140527923181760 [Note] Added new Master_info '' to hash table\n",
       "2019-01-23  9:39:33 140527923181760 [Note] /opt/rh/rh-mariadb102/root/usr/libexec/mysqld: ready for connections.\n",
       "Version: '10.2.8-MariaDB'  socket: '/tmp/mysql.sock'  port: 0  MariaDB Server\n",
       "---> 09:39:33     MySQL started successfully\n",
       "Phase 1/7: Checking and upgrading mysql database\n",
       "Processing databases\n",
       "mysql\n",
       "mysql.column_stats                                 OK\n",
       "mysql.columns_priv                                 OK\n",
       "mysql.db                                           OK\n",
       "mysql.event                                        OK\n",
       "mysql.func                                         OK\n",
       "mysql.gtid_slave_pos                               OK\n",
       "mysql.help_category                                OK\n",
       "mysql.help_keyword                                 OK\n",
       "mysql.help_relation                                OK\n",
       "mysql.help_topic                                   OK\n",
       "mysql.host                                         OK\n",
       "mysql.index_stats                                  OK\n",
       "mysql.innodb_index_stats                           OK\n",
       "mysql.innodb_table_stats                           OK\n",
       "mysql.plugin                                       OK\n",
       "mysql.proc                                         OK\n",
       "mysql.procs_priv                                   OK\n",
       "mysql.proxies_priv                                 OK\n",
       "mysql.roles_mapping                                OK\n",
       "mysql.servers                                      OK\n",
       "mysql.table_stats                                  OK\n",
       "mysql.tables_priv                                  OK\n",
       "mysql.time_zone                                    OK\n",
       "mysql.time_zone_leap_second                        OK\n",
       "mysql.time_zone_name                               OK\n",
       "mysql.time_zone_transition                         OK\n",
       "mysql.time_zone_transition_type                    OK\n",
       "mysql.user                                         OK\n",
       "Phase 2/7: Installing used storage engines... Skipped\n",
       "Phase 3/7: Fixing views\n",
       "Phase 4/7: Running 'mysql_fix_privilege_tables'\n",
       "Phase 5/7: Fixing table and database names\n",
       "Phase 6/7: Checking and upgrading tables\n",
       "Processing databases\n",
       "information_schema\n",
       "performance_schema\n",
       "test\n",
       "Phase 7/7: Running 'FLUSH PRIVILEGES'\n",
       "OK\n",
       "2019-01-23  9:39:34 140527505946368 [Warning] 'user' entry 'root@app-czwxd-1-qjnqn' ignored in --skip-name-resolve mode.\n",
       "2019-01-23  9:39:34 140527505946368 [Warning] 'user' entry '@app-czwxd-1-qjnqn' ignored in --skip-name-resolve mode.\n",
       "2019-01-23  9:39:34 140527505946368 [Warning] 'proxies_priv' entry '@% root@app-czwxd-1-qjnqn' ignored in --skip-name-resolve mode.\n",
       "---> 09:39:34     Setting password for MySQL root user ...\n",
       "---> 09:39:34     Initialization finished\n",
       "=> sourcing 40-datadir-action.sh ...\n",
       "2019-01-23  9:39:34 139647543736512 [Note] Using unique option prefix 'ignore-db-dir' is error-prone and can break in the future. Please use the full name 'ignore_db_dirs' instead.\n",
       "2019-01-23  9:39:34 139647543736512 [Note] Using unique option prefix 'ignore-db-dir' is error-prone and can break in the future. Please use the full name 'ignore_db_dirs' instead.\n",
       "---> 09:39:34     Running datadir action: upgrade-warn\n",
       "---> 09:39:34     MySQL server version check passed, both server and data directory are version 10.2.\n",
       "=> sourcing 50-passwd-change.sh ...\n",
       "---> 09:39:34     Setting passwords ...\n",
       "---> 09:39:34     Shutting down MySQL ...\n",
       "2019-01-23  9:39:34 140527505946368 [Warning] 'user' entry 'root@app-czwxd-1-qjnqn' ignored in --skip-name-resolve mode.\n",
       "2019-01-23  9:39:34 140527505946368 [Warning] 'user' entry '@app-czwxd-1-qjnqn' ignored in --skip-name-resolve mode.\n",
       "2019-01-23  9:39:34 140527505946368 [Warning] 'proxies_priv' entry '@% root@app-czwxd-1-qjnqn' ignored in --skip-name-resolve mode.\n",
       "2019-01-23  9:39:34 140527505676032 [Note] /opt/rh/rh-mariadb102/root/usr/libexec/mysqld (root[root] @ localhost []): Normal shutdown\n",
       "2019-01-23  9:39:34 140527505676032 [Note] Event Scheduler: Purging the queue. 0 events\n",
       "2019-01-23  9:39:34 140527236282112 [Note] InnoDB: FTS optimize thread exiting.\n",
       "2019-01-23  9:39:34 140527505676032 [Note] InnoDB: Starting shutdown...\n",
       "2019-01-23  9:39:34 140527194318592 [Note] InnoDB: Dumping buffer pool(s) to /var/lib/mysql/data/ib_buffer_pool\n",
       "2019-01-23  9:39:34 140527194318592 [Note] InnoDB: Buffer pool(s) dump completed at 190123  9:39:34\n",
       "2019-01-23  9:39:35 140527505676032 [Note] InnoDB: Shutdown completed; log sequence number 1620126\n",
       "2019-01-23  9:39:35 140527505676032 [Note] InnoDB: Removed temporary tablespace data file: \"ibtmp1\"\n",
       "2019-01-23  9:39:35 140527505676032 [Note] /opt/rh/rh-mariadb102/root/usr/libexec/mysqld: Shutdown complete\n",
       "---> 09:39:36     Cleaning up environment variables MYSQL_USER, MYSQL_PASSWORD, MYSQL_DATABASE and MYSQL_ROOT_PASSWORD ...\n",
       "---> 09:39:36     Running final exec -- Only MySQL server logs after this point\n",
       "2019-01-23  9:39:36 140373075781824 [Note] Using unique option prefix 'ignore-db-dir' is error-prone and can break in the future. Please use the full name 'ignore_db_dirs' instead.\n",
       "2019-01-23  9:39:36 140373075781824 [Note] Using unique option prefix 'ignore-db-dir' is error-prone and can break in the future. Please use the full name 'ignore_db_dirs' instead.\n",
       "2019-01-23  9:39:36 140373075781824 [Note] /opt/rh/rh-mariadb102/root/usr/libexec/mysqld (mysqld 10.2.8-MariaDB) starting as process 1 ...\n",
       "2019-01-23  9:39:36 140373075781824 [Note] InnoDB: Mutexes and rw_locks use GCC atomic builtins\n",
       "2019-01-23  9:39:36 140373075781824 [Note] InnoDB: Uses event mutexes\n",
       "2019-01-23  9:39:36 140373075781824 [Note] InnoDB: Compressed tables use zlib 1.2.7\n",
       "2019-01-23  9:39:36 140373075781824 [Note] InnoDB: Using Linux native AIO\n",
       "2019-01-23  9:39:36 140373075781824 [Note] InnoDB: Number of pools: 1\n",
       "2019-01-23  9:39:36 140373075781824 [Note] InnoDB: Using SSE2 crc32 instructions\n",
       "2019-01-23  9:39:36 140373075781824 [Note] InnoDB: Initializing buffer pool, total size = 32M, instances = 1, chunk size = 32M\n",
       "2019-01-23  9:39:36 140373075781824 [Note] InnoDB: Completed initialization of buffer pool\n",
       "2019-01-23  9:39:36 140372508387072 [Note] InnoDB: If the mysqld execution user is authorized, page cleaner thread priority can be changed. See the man page of setpriority().\n",
       "2019-01-23  9:39:36 140373075781824 [Note] InnoDB: Highest supported file format is Barracuda.\n",
       "2019-01-23  9:39:36 140373075781824 [Note] InnoDB: 128 out of 128 rollback segments are active.\n",
       "2019-01-23  9:39:36 140373075781824 [Note] InnoDB: Creating shared tablespace for temporary tables\n",
       "2019-01-23  9:39:36 140373075781824 [Note] InnoDB: Setting file './ibtmp1' size to 12 MB. Physically writing the file full; Please wait ...\n",
       "2019-01-23  9:39:36 140373075781824 [Note] InnoDB: File './ibtmp1' size is now 12 MB.\n",
       "2019-01-23  9:39:36 140373075781824 [Note] InnoDB: Waiting for purge to start\n",
       "2019-01-23  9:39:36 140373075781824 [Note] InnoDB: 5.7.19 started; log sequence number 1620126\n",
       "2019-01-23  9:39:36 140372265129728 [Note] InnoDB: Loading buffer pool(s) from /var/lib/mysql/data/ib_buffer_pool\n",
       "2019-01-23  9:39:36 140372265129728 [Note] InnoDB: Buffer pool(s) load completed at 190123  9:39:36\n",
       "2019-01-23  9:39:36 140373075781824 [Note] Plugin 'FEEDBACK' is disabled.\n",
       "2019-01-23  9:39:36 140373075781824 [Note] Server socket created on IP: '::'.\n",
       "2019-01-23  9:39:36 140373075781824 [Warning] 'user' entry 'root@app-czwxd-1-qjnqn' ignored in --skip-name-resolve mode.\n",
       "2019-01-23  9:39:36 140373075781824 [Warning] 'user' entry '@app-czwxd-1-qjnqn' ignored in --skip-name-resolve mode.\n",
       "2019-01-23  9:39:36 140373075781824 [Warning] 'proxies_priv' entry '@% root@app-czwxd-1-qjnqn' ignored in --skip-name-resolve mode.\n",
       "2019-01-23  9:39:36 140373075781824 [Note] Reading of all Master_info entries succeded\n",
       "2019-01-23  9:39:36 140373075781824 [Note] Added new Master_info '' to hash table\n",
       "2019-01-23  9:39:36 140373075781824 [Note] /opt/rh/rh-mariadb102/root/usr/libexec/mysqld: ready for connections.\n",
       "Version: '10.2.8-MariaDB'  socket: '/var/lib/mysql/mysql.sock'  port: 3306  MariaDB Server\n"
      ]
     },
     "metadata": {},
     "output_type": "display_data"
    }
   ],
   "source": [
    "logs = openshift_backend.get_logs(app_name)\n",
    "display(Pretty(logs))"
   ]
  },
  {
   "cell_type": "code",
   "execution_count": 50,
   "metadata": {},
   "outputs": [
    {
     "name": "stderr",
     "output_type": "stream",
     "text": [
      "10:41:07.530 backend.py        INFO   Deleting all objects with label app=app-czwxd\n",
      "10:41:10.126 backend.py        INFO   pod \"app-czwxd-1-qjnqn\" deleted\n",
      "10:41:10.128 backend.py        INFO   replicationcontroller \"app-czwxd-1\" deleted\n",
      "10:41:10.131 backend.py        INFO   service \"app-czwxd\" deleted\n",
      "10:41:10.132 backend.py        INFO   deploymentconfig.apps.openshift.io \"app-czwxd\" deleted\n",
      "10:41:10.133 backend.py        INFO   \n"
     ]
    }
   ],
   "source": [
    "openshift_backend.clean_project(app_name)"
   ]
  },
  {
   "cell_type": "markdown",
   "metadata": {},
   "source": [
    "## Creating application from source"
   ]
  },
  {
   "cell_type": "code",
   "execution_count": 51,
   "metadata": {},
   "outputs": [
    {
     "data": {
      "text/plain": [
       "In project My Project (myproject) on server https://192.168.99.100:8443\n",
       "\n",
       "You have no services, deployment configs, or build configs.\n",
       "Run 'oc new-app' to create an application.\n"
      ]
     },
     "metadata": {},
     "output_type": "display_data"
    }
   ],
   "source": [
    "status = openshift_backend.get_status()\n",
    "display(Pretty(status))"
   ]
  },
  {
   "cell_type": "code",
   "execution_count": 52,
   "metadata": {},
   "outputs": [
    {
     "name": "stderr",
     "output_type": "stream",
     "text": [
      "10:42:05.192 backend.py        INFO   Importing image from: centos/python-36-centos7, as: python-36-centos7\n",
      "10:42:06.592 backend.py        INFO   Creating new app in project myproject\n"
     ]
    }
   ],
   "source": [
    "app_name = openshift_backend.create_new_app_from_source(\"centos/python-36-centos7\",\n",
    "                                                       source=\"https://github.com/openshift/django-ex.git\",\n",
    "                                                       project=\"myproject\")"
   ]
  },
  {
   "cell_type": "code",
   "execution_count": 53,
   "metadata": {},
   "outputs": [
    {
     "data": {
      "text/plain": [
       "In project My Project (myproject) on server https://192.168.99.100:8443\n",
       "\n",
       "svc/app-bdxnk - 172.30.155.244:8080\n",
       "  dc/app-bdxnk deploys istag/app-bdxnk:latest <-\n",
       "    bc/app-bdxnk source builds https://github.com/openshift/django-ex.git on istag/python-36-centos7:latest \n",
       "      build #1 running for 8 seconds - ab765c5: Merge pull request #134 from liangxia/okd (Honza Horak <hhorak@redhat.com>)\n",
       "    deployment #1 waiting on image or update\n",
       "\n",
       "\n",
       "2 infos identified, use 'oc status -v' to see details.\n"
      ]
     },
     "metadata": {},
     "output_type": "display_data"
    }
   ],
   "source": [
    "status = openshift_backend.get_status()\n",
    "display(Pretty(status))"
   ]
  },
  {
   "cell_type": "code",
   "execution_count": 55,
   "metadata": {},
   "outputs": [
    {
     "name": "stderr",
     "output_type": "stream",
     "text": [
      "10:42:34.322 pod.py            INFO   Pod: app-bdxnk-1-sfdkf in namespace: myproject is ready!\n",
      "10:42:34.323 backend.py        INFO   All pods are ready!\n"
     ]
    },
    {
     "data": {
      "text/plain": [
       "True"
      ]
     },
     "execution_count": 55,
     "metadata": {},
     "output_type": "execute_result"
    }
   ],
   "source": [
    "openshift_backend.all_pods_are_ready(app_name)"
   ]
  },
  {
   "cell_type": "code",
   "execution_count": 59,
   "metadata": {},
   "outputs": [
    {
     "name": "stderr",
     "output_type": "stream",
     "text": [
      "10:52:16.055 backend.py        INFO   Deleting all objects with label app=app-bdxnk\n",
      "10:52:18.673 backend.py        INFO   pod \"app-bdxnk-1-sfdkf\" deleted\n",
      "10:52:18.675 backend.py        INFO   replicationcontroller \"app-bdxnk-1\" deleted\n",
      "10:52:18.676 backend.py        INFO   service \"app-bdxnk\" deleted\n",
      "10:52:18.677 backend.py        INFO   deploymentconfig.apps.openshift.io \"app-bdxnk\" deleted\n",
      "10:52:18.678 backend.py        INFO   buildconfig.build.openshift.io \"app-bdxnk\" deleted\n",
      "10:52:18.678 backend.py        INFO   build.build.openshift.io \"app-bdxnk-1\" deleted\n",
      "10:52:18.679 backend.py        INFO   imagestream.image.openshift.io \"app-bdxnk\" deleted\n",
      "10:52:18.680 backend.py        INFO   \n"
     ]
    }
   ],
   "source": [
    "openshift_backend.clean_project(app_name)"
   ]
  },
  {
   "cell_type": "markdown",
   "metadata": {},
   "source": [
    "For more information see upstream GitHub repository: https://github.com/user-cont/conu. You can find there more examples for all supported backends."
   ]
  }
 ],
 "metadata": {
  "kernelspec": {
   "display_name": "devconf",
   "language": "python",
   "name": "devconf"
  },
  "language_info": {
   "codemirror_mode": {
    "name": "ipython",
    "version": 3
   },
   "file_extension": ".py",
   "mimetype": "text/x-python",
   "name": "python",
   "nbconvert_exporter": "python",
   "pygments_lexer": "ipython3",
   "version": "3.6.6"
  }
 },
 "nbformat": 4,
 "nbformat_minor": 2
}
