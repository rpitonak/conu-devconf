{
 "cells": [
  {
   "cell_type": "markdown",
   "metadata": {},
   "source": [
    "# Welcome to conu demo! \n",
    "\n",
    "You need to install following packages to be able to run docker examples: `docker` and `conu`, for kubernetes and OpenShift examples I recommend to run local cluster using `minishift`."
   ]
  },
  {
   "cell_type": "markdown",
   "metadata": {},
   "source": [
    "# Docker example"
   ]
  },
  {
   "cell_type": "code",
   "execution_count": 1,
   "metadata": {},
   "outputs": [],
   "source": [
    "from conu import DockerBackend"
   ]
  },
  {
   "cell_type": "code",
   "execution_count": 2,
   "metadata": {},
   "outputs": [
    {
     "name": "stderr",
     "output_type": "stream",
     "text": [
      "11:20:30.912 backend.py        INFO   conu has initiated, welcome to the party!\n",
      "11:20:31.965 __init__.py       INFO   docker environment info: 'Client: Docker Engine - Community\\n Version:           18.09.1\\n API version:       1.39\\n Go version:        go1.10.6\\n Git commit:        4c52b90\\n Built:             Wed Jan  9 19:33:12 2019\\n OS/Arch:           darwin/amd64\\n Experimental:      false\\n\\nServer: Docker Engine - Community\\n Engine:\\n  Version:          18.09.1\\n  API version:      1.39 (minimum version 1.12)\\n  Go version:       go1.10.6\\n  Git commit:       4c52b90\\n  Built:            Wed Jan  9 19:41:49 2019\\n  OS/Arch:          linux/amd64\\n  Experimental:     true\\n'\n"
     ]
    }
   ],
   "source": [
    "backend = DockerBackend()"
   ]
  },
  {
   "cell_type": "code",
   "execution_count": 4,
   "metadata": {},
   "outputs": [],
   "source": [
    "image = backend.ImageClass(\"docker.io/library/nginx\")"
   ]
  },
  {
   "cell_type": "code",
   "execution_count": 5,
   "metadata": {},
   "outputs": [
    {
     "data": {
      "text/plain": [
       "{'Id': 'sha256:06144b2878448774e55577ae7d66b5f43a87c2e44322b3884e4e6c70d070b262',\n",
       " 'RepoTags': ['nginx:latest'],\n",
       " 'RepoDigests': ['nginx@sha256:24a0c4b4a4c0eb97a1aabb8e29f18e917d05abfe1b7a7c07857230879ce7d3d3'],\n",
       " 'Parent': '',\n",
       " 'Comment': '',\n",
       " 'Created': '2018-09-05T00:57:00.322491744Z',\n",
       " 'Container': 'ea0a37cdc91d1228880c77a4660fd74a6ba6ae5d2de6c54e2ac025c66c11f257',\n",
       " 'ContainerConfig': {'Hostname': 'ea0a37cdc91d',\n",
       "  'Domainname': '',\n",
       "  'User': '',\n",
       "  'AttachStdin': False,\n",
       "  'AttachStdout': False,\n",
       "  'AttachStderr': False,\n",
       "  'ExposedPorts': {'80/tcp': {}},\n",
       "  'Tty': False,\n",
       "  'OpenStdin': False,\n",
       "  'StdinOnce': False,\n",
       "  'Env': ['PATH=/usr/local/sbin:/usr/local/bin:/usr/sbin:/usr/bin:/sbin:/bin',\n",
       "   'NGINX_VERSION=1.15.3-1~stretch',\n",
       "   'NJS_VERSION=1.15.3.0.2.3-1~stretch'],\n",
       "  'Cmd': ['/bin/sh', '-c', '#(nop) ', 'CMD [\"nginx\" \"-g\" \"daemon off;\"]'],\n",
       "  'ArgsEscaped': True,\n",
       "  'Image': 'sha256:674565b18e1c8e0102c657d89059818ba8e0f476073f63078439951d4e0370b0',\n",
       "  'Volumes': None,\n",
       "  'WorkingDir': '',\n",
       "  'Entrypoint': None,\n",
       "  'OnBuild': [],\n",
       "  'Labels': {'maintainer': 'NGINX Docker Maintainers <docker-maint@nginx.com>'},\n",
       "  'StopSignal': 'SIGTERM'},\n",
       " 'DockerVersion': '17.06.2-ce',\n",
       " 'Author': '',\n",
       " 'Config': {'Hostname': '',\n",
       "  'Domainname': '',\n",
       "  'User': '',\n",
       "  'AttachStdin': False,\n",
       "  'AttachStdout': False,\n",
       "  'AttachStderr': False,\n",
       "  'ExposedPorts': {'80/tcp': {}},\n",
       "  'Tty': False,\n",
       "  'OpenStdin': False,\n",
       "  'StdinOnce': False,\n",
       "  'Env': ['PATH=/usr/local/sbin:/usr/local/bin:/usr/sbin:/usr/bin:/sbin:/bin',\n",
       "   'NGINX_VERSION=1.15.3-1~stretch',\n",
       "   'NJS_VERSION=1.15.3.0.2.3-1~stretch'],\n",
       "  'Cmd': ['nginx', '-g', 'daemon off;'],\n",
       "  'ArgsEscaped': True,\n",
       "  'Image': 'sha256:674565b18e1c8e0102c657d89059818ba8e0f476073f63078439951d4e0370b0',\n",
       "  'Volumes': None,\n",
       "  'WorkingDir': '',\n",
       "  'Entrypoint': None,\n",
       "  'OnBuild': [],\n",
       "  'Labels': {'maintainer': 'NGINX Docker Maintainers <docker-maint@nginx.com>'},\n",
       "  'StopSignal': 'SIGTERM'},\n",
       " 'Architecture': 'amd64',\n",
       " 'Os': 'linux',\n",
       " 'Size': 109057266,\n",
       " 'VirtualSize': 109057266,\n",
       " 'GraphDriver': {'Data': {'LowerDir': '/var/lib/docker/overlay2/011aee0449499eda0311281c2ffbff84ed8371716a2f6ca08ed91575c28c5949/diff:/var/lib/docker/overlay2/4d43a25d0a448aa02a955e792ec890cd151a903e6d59020a6a405a710be70554/diff',\n",
       "   'MergedDir': '/var/lib/docker/overlay2/c8243238ed251ddc56f4a28953af63a09527b11161faf6c5055233a781f15314/merged',\n",
       "   'UpperDir': '/var/lib/docker/overlay2/c8243238ed251ddc56f4a28953af63a09527b11161faf6c5055233a781f15314/diff',\n",
       "   'WorkDir': '/var/lib/docker/overlay2/c8243238ed251ddc56f4a28953af63a09527b11161faf6c5055233a781f15314/work'},\n",
       "  'Name': 'overlay2'},\n",
       " 'RootFS': {'Type': 'layers',\n",
       "  'Layers': ['sha256:8b15606a9e3e430cb7ba739fde2fbb3734a19f8a59a825ffa877f9be49059817',\n",
       "   'sha256:67d3ae5dfa345eeae001eb9e2c814f77b180c80164ec79b2e47191871d2868d4',\n",
       "   'sha256:579c75bb43c0e69e58113aab1185b274806188d8ed6ab4b69d2053921aec2553']},\n",
       " 'Metadata': {'LastTagTime': '0001-01-01T00:00:00Z'}}"
      ]
     },
     "execution_count": 5,
     "metadata": {},
     "output_type": "execute_result"
    }
   ],
   "source": [
    "image.inspect()"
   ]
  },
  {
   "cell_type": "code",
   "execution_count": null,
   "metadata": {},
   "outputs": [],
   "source": [
    "container = image.run_via_binary()"
   ]
  },
  {
   "cell_type": "code",
   "execution_count": null,
   "metadata": {},
   "outputs": [],
   "source": [
    "container.is_running()"
   ]
  },
  {
   "cell_type": "code",
   "execution_count": null,
   "metadata": {},
   "outputs": [],
   "source": [
    "container.get_IPv4s()"
   ]
  },
  {
   "cell_type": "code",
   "execution_count": null,
   "metadata": {},
   "outputs": [],
   "source": [
    "container.get_ports()"
   ]
  },
  {
   "cell_type": "code",
   "execution_count": null,
   "metadata": {},
   "outputs": [],
   "source": [
    "container.stop()"
   ]
  },
  {
   "cell_type": "code",
   "execution_count": null,
   "metadata": {},
   "outputs": [],
   "source": [
    "container.is_running()"
   ]
  },
  {
   "cell_type": "markdown",
   "metadata": {},
   "source": [
    "### HTTP client"
   ]
  },
  {
   "cell_type": "code",
   "execution_count": 6,
   "metadata": {},
   "outputs": [
    {
     "name": "stderr",
     "output_type": "stream",
     "text": [
      "11:27:20.753 image.py          INFO   Pulling from fedora\n",
      "11:27:21.377 image.py          INFO   Pulling fs layer\n",
      "11:27:22.257 image.py          INFO   Downloading\n",
      "11:27:22.371 image.py          INFO   Downloading\n",
      "11:27:22.499 image.py          INFO   Downloading\n",
      "11:27:22.607 image.py          INFO   Downloading\n",
      "11:27:22.722 image.py          INFO   Downloading\n",
      "11:27:22.843 image.py          INFO   Downloading\n",
      "11:27:23.199 image.py          INFO   Downloading\n",
      "11:27:23.306 image.py          INFO   Downloading\n",
      "11:27:23.423 image.py          INFO   Downloading\n",
      "11:27:23.522 image.py          INFO   Downloading\n",
      "11:27:23.645 image.py          INFO   Downloading\n",
      "11:27:23.761 image.py          INFO   Downloading\n",
      "11:27:23.863 image.py          INFO   Downloading\n",
      "11:27:23.975 image.py          INFO   Downloading\n",
      "11:27:24.269 image.py          INFO   Downloading\n",
      "11:27:24.377 image.py          INFO   Downloading\n",
      "11:27:24.499 image.py          INFO   Downloading\n",
      "11:27:24.602 image.py          INFO   Downloading\n",
      "11:27:24.709 image.py          INFO   Downloading\n",
      "11:27:24.829 image.py          INFO   Downloading\n",
      "11:27:24.944 image.py          INFO   Downloading\n",
      "11:27:25.062 image.py          INFO   Downloading\n",
      "11:27:25.180 image.py          INFO   Downloading\n",
      "11:27:25.293 image.py          INFO   Downloading\n",
      "11:27:25.396 image.py          INFO   Downloading\n",
      "11:27:25.503 image.py          INFO   Downloading\n",
      "11:27:25.615 image.py          INFO   Downloading\n",
      "11:27:25.735 image.py          INFO   Downloading\n",
      "11:27:25.848 image.py          INFO   Downloading\n",
      "11:27:25.959 image.py          INFO   Downloading\n",
      "11:27:26.092 image.py          INFO   Downloading\n",
      "11:27:26.226 image.py          INFO   Downloading\n",
      "11:27:26.353 image.py          INFO   Downloading\n",
      "11:27:26.464 image.py          INFO   Downloading\n",
      "11:27:26.576 image.py          INFO   Downloading\n",
      "11:27:26.682 image.py          INFO   Downloading\n",
      "11:27:26.798 image.py          INFO   Downloading\n",
      "11:27:26.900 image.py          INFO   Downloading\n",
      "11:27:27.001 image.py          INFO   Downloading\n",
      "11:27:27.120 image.py          INFO   Downloading\n",
      "11:27:27.223 image.py          INFO   Downloading\n",
      "11:27:27.343 image.py          INFO   Downloading\n",
      "11:27:27.455 image.py          INFO   Downloading\n",
      "11:27:27.593 image.py          INFO   Downloading\n",
      "11:27:27.723 image.py          INFO   Downloading\n",
      "11:27:27.841 image.py          INFO   Downloading\n",
      "11:27:28.009 image.py          INFO   Downloading\n",
      "11:27:28.121 image.py          INFO   Downloading\n",
      "11:27:28.222 image.py          INFO   Downloading\n",
      "11:27:28.330 image.py          INFO   Downloading\n",
      "11:27:28.453 image.py          INFO   Downloading\n",
      "11:27:28.568 image.py          INFO   Downloading\n",
      "11:27:28.675 image.py          INFO   Downloading\n",
      "11:27:28.794 image.py          INFO   Downloading\n",
      "11:27:28.820 image.py          INFO   Downloading\n",
      "11:27:28.821 image.py          INFO   Verifying Checksum\n",
      "11:27:28.822 image.py          INFO   Download complete\n",
      "11:27:29.176 image.py          INFO   Extracting\n",
      "11:27:29.323 image.py          INFO   Extracting\n",
      "11:27:29.756 image.py          INFO   Extracting\n",
      "11:27:29.861 image.py          INFO   Extracting\n",
      "11:27:29.975 image.py          INFO   Extracting\n",
      "11:27:30.088 image.py          INFO   Extracting\n",
      "11:27:30.196 image.py          INFO   Extracting\n",
      "11:27:30.380 image.py          INFO   Extracting\n",
      "11:27:30.487 image.py          INFO   Extracting\n",
      "11:27:30.626 image.py          INFO   Extracting\n",
      "11:27:30.728 image.py          INFO   Extracting\n",
      "11:27:30.830 image.py          INFO   Extracting\n",
      "11:27:30.943 image.py          INFO   Extracting\n",
      "11:27:31.293 image.py          INFO   Extracting\n",
      "11:27:31.424 image.py          INFO   Extracting\n",
      "11:27:31.539 image.py          INFO   Extracting\n",
      "11:27:31.641 image.py          INFO   Extracting\n",
      "11:27:31.860 image.py          INFO   Extracting\n",
      "11:27:32.026 image.py          INFO   Extracting\n",
      "11:27:32.130 image.py          INFO   Extracting\n",
      "11:27:32.239 image.py          INFO   Extracting\n",
      "11:27:32.371 image.py          INFO   Extracting\n",
      "11:27:32.519 image.py          INFO   Extracting\n",
      "11:27:32.654 image.py          INFO   Extracting\n",
      "11:27:32.791 image.py          INFO   Extracting\n",
      "11:27:32.931 image.py          INFO   Extracting\n",
      "11:27:33.053 image.py          INFO   Extracting\n",
      "11:27:33.163 image.py          INFO   Extracting\n",
      "11:27:33.339 image.py          INFO   Extracting\n",
      "11:27:33.462 image.py          INFO   Extracting\n",
      "11:27:33.651 image.py          INFO   Extracting\n",
      "11:27:33.801 image.py          INFO   Extracting\n",
      "11:27:33.887 image.py          INFO   Extracting\n",
      "11:27:34.086 image.py          INFO   Extracting\n",
      "11:27:34.196 image.py          INFO   Extracting\n",
      "11:27:34.321 image.py          INFO   Extracting\n",
      "11:27:34.438 image.py          INFO   Extracting\n",
      "11:27:34.564 image.py          INFO   Extracting\n",
      "11:27:34.685 image.py          INFO   Extracting\n",
      "11:27:34.788 image.py          INFO   Extracting\n",
      "11:27:34.894 image.py          INFO   Extracting\n",
      "11:27:35.019 image.py          INFO   Extracting\n",
      "11:27:35.120 image.py          INFO   Extracting\n",
      "11:27:35.243 image.py          INFO   Extracting\n",
      "11:27:35.360 image.py          INFO   Extracting\n",
      "11:27:35.489 image.py          INFO   Extracting\n",
      "11:27:35.607 image.py          INFO   Extracting\n",
      "11:27:35.755 image.py          INFO   Extracting\n",
      "11:27:35.866 image.py          INFO   Extracting\n",
      "11:27:35.986 image.py          INFO   Extracting\n",
      "11:27:36.172 image.py          INFO   Extracting\n",
      "11:27:36.296 image.py          INFO   Extracting\n",
      "11:27:36.654 image.py          INFO   Extracting\n",
      "11:27:36.782 image.py          INFO   Extracting\n",
      "11:27:36.939 image.py          INFO   Extracting\n",
      "11:27:37.112 image.py          INFO   Extracting\n",
      "11:27:37.225 image.py          INFO   Extracting\n",
      "11:27:37.334 image.py          INFO   Extracting\n",
      "11:27:37.439 image.py          INFO   Extracting\n",
      "11:27:37.544 image.py          INFO   Extracting\n",
      "11:27:37.647 image.py          INFO   Extracting\n",
      "11:27:37.752 image.py          INFO   Extracting\n",
      "11:27:37.862 image.py          INFO   Extracting\n",
      "11:27:38.078 image.py          INFO   Extracting\n",
      "11:27:38.185 image.py          INFO   Extracting\n",
      "11:27:38.302 image.py          INFO   Extracting\n",
      "11:27:38.488 image.py          INFO   Extracting\n",
      "11:27:38.604 image.py          INFO   Extracting\n",
      "11:27:38.769 image.py          INFO   Extracting\n",
      "11:27:39.069 image.py          INFO   Pull complete\n",
      "11:27:39.082 image.py          INFO   Digest: sha256:62a63551532c29d266342c2a36282a094e980a8bb1077be10f3ea72f265cfb16\n",
      "11:27:39.088 image.py          INFO   Status: Downloaded newer image for registry.fedoraproject.org/fedora:latest\n"
     ]
    }
   ],
   "source": [
    "image = backend.ImageClass(\"registry.fedoraproject.org/fedora\")"
   ]
  },
  {
   "cell_type": "code",
   "execution_count": 7,
   "metadata": {},
   "outputs": [
    {
     "name": "stderr",
     "output_type": "stream",
     "text": [
      "11:28:24.180 image.py          INFO   run container via binary in background\n"
     ]
    }
   ],
   "source": [
    "container = image.run_via_binary(command=[\"python3\", \"-m\", \"http.server\", \"--bind\", \"0.0.0.0 8000\"])"
   ]
  },
  {
   "cell_type": "code",
   "execution_count": 8,
   "metadata": {},
   "outputs": [
    {
     "data": {
      "text/plain": [
       "True"
      ]
     },
     "execution_count": 8,
     "metadata": {},
     "output_type": "execute_result"
    }
   ],
   "source": [
    "container.is_running()"
   ]
  },
  {
   "cell_type": "code",
   "execution_count": null,
   "metadata": {},
   "outputs": [],
   "source": [
    "request = container.http_request(port=\"8080\")"
   ]
  },
  {
   "cell_type": "code",
   "execution_count": null,
   "metadata": {},
   "outputs": [],
   "source": [
    "request.ok"
   ]
  },
  {
   "cell_type": "markdown",
   "metadata": {},
   "source": [
    "# Kubernetes example\n",
    "\n",
    "This example demonstrating how to run image created by `DockerBackend` as container inside Kubernetes pod."
   ]
  },
  {
   "cell_type": "code",
   "execution_count": null,
   "metadata": {},
   "outputs": [],
   "source": [
    "from conu import K8sBackend"
   ]
  },
  {
   "cell_type": "code",
   "execution_count": null,
   "metadata": {},
   "outputs": [],
   "source": [
    "k8s_backend = K8sBackend()"
   ]
  },
  {
   "cell_type": "code",
   "execution_count": null,
   "metadata": {},
   "outputs": [],
   "source": [
    "docker_backend = DockerBackend()"
   ]
  },
  {
   "cell_type": "code",
   "execution_count": null,
   "metadata": {},
   "outputs": [],
   "source": [
    "image = docker_backend.ImageClass(\"openshift/hello-openshift\")"
   ]
  },
  {
   "cell_type": "code",
   "execution_count": null,
   "metadata": {},
   "outputs": [],
   "source": [
    "pod = image.run_in_pod(namespace='myproject')"
   ]
  },
  {
   "cell_type": "code",
   "execution_count": null,
   "metadata": {},
   "outputs": [],
   "source": [
    "pod.is_ready()"
   ]
  },
  {
   "cell_type": "code",
   "execution_count": null,
   "metadata": {},
   "outputs": [],
   "source": [
    "pod.get_phase()"
   ]
  },
  {
   "cell_type": "code",
   "execution_count": null,
   "metadata": {},
   "outputs": [],
   "source": [
    "pod.delete()"
   ]
  },
  {
   "cell_type": "code",
   "execution_count": null,
   "metadata": {},
   "outputs": [],
   "source": [
    "pod.get_phase()"
   ]
  },
  {
   "cell_type": "markdown",
   "metadata": {},
   "source": [
    "# OpenShift example"
   ]
  },
  {
   "cell_type": "code",
   "execution_count": null,
   "metadata": {},
   "outputs": [],
   "source": [
    "from conu.utils import get_oc_api_token"
   ]
  },
  {
   "cell_type": "code",
   "execution_count": null,
   "metadata": {},
   "outputs": [],
   "source": [
    "from conu import OpenshiftBackend"
   ]
  },
  {
   "cell_type": "code",
   "execution_count": null,
   "metadata": {},
   "outputs": [],
   "source": [
    "api_key = get_oc_api_token()"
   ]
  },
  {
   "cell_type": "code",
   "execution_count": null,
   "metadata": {},
   "outputs": [],
   "source": [
    "api_key"
   ]
  },
  {
   "cell_type": "code",
   "execution_count": null,
   "metadata": {},
   "outputs": [],
   "source": [
    "openshift_backend = OpenshiftBackend(api_key=api_key)"
   ]
  },
  {
   "cell_type": "code",
   "execution_count": null,
   "metadata": {},
   "outputs": [],
   "source": [
    "app_name = openshift_backend.deploy_image(\"centos/mariadb-102-centos7\",\n",
    "                                         oc_new_app_args=[\"--env\", \"MYSQL_ROOT_PASSWORD=test\"],\n",
    "                                         project='myproject')"
   ]
  },
  {
   "cell_type": "code",
   "execution_count": null,
   "metadata": {},
   "outputs": [],
   "source": [
    "openshift_backend.all_pods_are_ready(app_name)"
   ]
  },
  {
   "cell_type": "code",
   "execution_count": null,
   "metadata": {},
   "outputs": [],
   "source": [
    "openshift_backend.get_logs(app_name)"
   ]
  },
  {
   "cell_type": "code",
   "execution_count": null,
   "metadata": {},
   "outputs": [],
   "source": [
    "openshift_backend.clean_project(app_name)"
   ]
  },
  {
   "cell_type": "markdown",
   "metadata": {},
   "source": [
    "## Creating application from source"
   ]
  },
  {
   "cell_type": "code",
   "execution_count": null,
   "metadata": {},
   "outputs": [],
   "source": [
    "openshift_backend.get_status()"
   ]
  },
  {
   "cell_type": "code",
   "execution_count": null,
   "metadata": {},
   "outputs": [],
   "source": [
    "app_name = openshift_backend.create_new_app_from_source(\"centos/python-36-centos7\",\n",
    "                                                       source=\"https://github.com/openshift/django-ex.git\",\n",
    "                                                       project=\"myproject\")"
   ]
  },
  {
   "cell_type": "code",
   "execution_count": null,
   "metadata": {},
   "outputs": [],
   "source": [
    "openshift_backend.all_pods_are_ready(app_name)"
   ]
  },
  {
   "cell_type": "code",
   "execution_count": null,
   "metadata": {},
   "outputs": [],
   "source": [
    "openshift_backend.get_status()"
   ]
  },
  {
   "cell_type": "code",
   "execution_count": null,
   "metadata": {},
   "outputs": [],
   "source": [
    "openshift_backend.clean_project(app_name)"
   ]
  },
  {
   "cell_type": "markdown",
   "metadata": {},
   "source": [
    "For more information see upstream GitHub repository: https://github.com/user-cont/conu. You can find there more examples for all supported backends."
   ]
  },
  {
   "cell_type": "code",
   "execution_count": null,
   "metadata": {},
   "outputs": [],
   "source": []
  }
 ],
 "metadata": {
  "kernelspec": {
   "display_name": "devconf",
   "language": "python",
   "name": "devconf"
  },
  "language_info": {
   "codemirror_mode": {
    "name": "ipython",
    "version": 3
   },
   "file_extension": ".py",
   "mimetype": "text/x-python",
   "name": "python",
   "nbconvert_exporter": "python",
   "pygments_lexer": "ipython3",
   "version": "3.6.6"
  }
 },
 "nbformat": 4,
 "nbformat_minor": 2
}
